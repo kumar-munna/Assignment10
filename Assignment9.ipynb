{
 "cells": [
  {
   "cell_type": "code",
   "execution_count": 1,
   "id": "84ba61ce-afff-4376-bde5-c9b8c173dbe7",
   "metadata": {},
   "outputs": [],
   "source": [
    "# Q1, Create a vehicle class with an init method having instance variables as\n",
    "# name_of_vehicle, max_speed and average_of_vehicle."
   ]
  },
  {
   "cell_type": "code",
   "execution_count": 29,
   "id": "f981c8a9-c5c4-4ca1-81b3-d4b336990f91",
   "metadata": {},
   "outputs": [],
   "source": [
    "class vehicle:\n",
    "    def __init__(self, name_of_vehicle, max_speed, average_of_vehicle ):\n",
    "        self.name_of_vehicle= name_of_vehicle\n",
    "        self.max_speed= max_speed\n",
    "        self.average_of_vehicle= average_of_vehicle\n",
    "        \n",
    "    def return_vehicle_details(self):\n",
    "        return  self.name_of_vehicle, self.max_speed, self.average_of_vehicle"
   ]
  },
  {
   "cell_type": "code",
   "execution_count": 30,
   "id": "174e070c-057f-4295-9bff-5cfae1d12cf7",
   "metadata": {},
   "outputs": [],
   "source": [
    "v = vehicle(\"tata bus\",160,80)"
   ]
  },
  {
   "cell_type": "code",
   "execution_count": 31,
   "id": "06008ccf-91c2-435c-b822-8afb0fe3c7b4",
   "metadata": {},
   "outputs": [
    {
     "data": {
      "text/plain": [
       "80"
      ]
     },
     "execution_count": 31,
     "metadata": {},
     "output_type": "execute_result"
    }
   ],
   "source": [
    "v.average_of_vehicle"
   ]
  },
  {
   "cell_type": "code",
   "execution_count": 32,
   "id": "247cc39a-1a73-4d9c-85f3-ac59d8b7a2ef",
   "metadata": {},
   "outputs": [
    {
     "data": {
      "text/plain": [
       "160"
      ]
     },
     "execution_count": 32,
     "metadata": {},
     "output_type": "execute_result"
    }
   ],
   "source": [
    "v.max_speed"
   ]
  },
  {
   "cell_type": "code",
   "execution_count": 33,
   "id": "2b472b87-01dc-41cf-a5e6-f21b8fda90e9",
   "metadata": {},
   "outputs": [
    {
     "data": {
      "text/plain": [
       "'tata bus'"
      ]
     },
     "execution_count": 33,
     "metadata": {},
     "output_type": "execute_result"
    }
   ],
   "source": [
    "v.name_of_vehicle"
   ]
  },
  {
   "cell_type": "code",
   "execution_count": 34,
   "id": "32ed4327-d132-499e-bb34-8918a547c2c8",
   "metadata": {},
   "outputs": [
    {
     "data": {
      "text/plain": [
       "('tata bus', 160, 80)"
      ]
     },
     "execution_count": 34,
     "metadata": {},
     "output_type": "execute_result"
    }
   ],
   "source": [
    "v.return_vehicle_details()"
   ]
  },
  {
   "cell_type": "code",
   "execution_count": 35,
   "id": "33c9ed5e-3235-47bb-96c5-691a2f969dca",
   "metadata": {},
   "outputs": [],
   "source": [
    "# Q2. Create a child class car from the vehicle class created in Que 1,\n",
    "# which will inherit the vehicle class.Create a method named seating_capacity\n",
    "# which takes capacity as an argument and returns the name ofthe vehicle and \n",
    "# its seating capacity."
   ]
  },
  {
   "cell_type": "code",
   "execution_count": 46,
   "id": "f76002fb-33c1-4b2d-8e23-e56682ad36ea",
   "metadata": {},
   "outputs": [],
   "source": [
    "class child_vehicle(vehicle):\n",
    "    def seating_capacity(self,seating_capacity):\n",
    "        self.seating_capacity=seating_capacity\n",
    "        return seating_capacity"
   ]
  },
  {
   "cell_type": "code",
   "execution_count": 47,
   "id": "e8f3f868-d632-428f-8f67-b0f83adfd313",
   "metadata": {},
   "outputs": [],
   "source": [
    "v=child_vehicle(\"tata bus\",160,80)"
   ]
  },
  {
   "cell_type": "code",
   "execution_count": 49,
   "id": "520737ce-fc4e-49d3-9e7a-41737e070e9e",
   "metadata": {},
   "outputs": [
    {
     "data": {
      "text/plain": [
       "70"
      ]
     },
     "execution_count": 49,
     "metadata": {},
     "output_type": "execute_result"
    }
   ],
   "source": [
    "v.seating_capacity(70)"
   ]
  },
  {
   "cell_type": "code",
   "execution_count": 50,
   "id": "f09ab648-5274-4eb8-ab2f-b2d125603f1e",
   "metadata": {},
   "outputs": [
    {
     "data": {
      "text/plain": [
       "'tata bus'"
      ]
     },
     "execution_count": 50,
     "metadata": {},
     "output_type": "execute_result"
    }
   ],
   "source": [
    "v.name_of_vehicle"
   ]
  },
  {
   "cell_type": "code",
   "execution_count": null,
   "id": "a201c0f4-bfd8-4cff-940e-50ea2ff86647",
   "metadata": {},
   "outputs": [],
   "source": [
    "# question 3: What is multiple inheritance? \n",
    "# Write a python code to demonstrate multiple inheritance."
   ]
  },
  {
   "cell_type": "code",
   "execution_count": 53,
   "id": "f29ae370-5b22-4eb0-92bf-6eaafb6165fe",
   "metadata": {},
   "outputs": [],
   "source": [
    "# Answer 3: When a class is derived from more than one base class it is called \n",
    "#           multiple inheritance. The derived class inherits all the features of\n",
    "#         the base case."
   ]
  },
  {
   "cell_type": "code",
   "execution_count": 54,
   "id": "dd8c701c-ca4b-45ef-b5ff-b9b46776f5c3",
   "metadata": {},
   "outputs": [],
   "source": [
    "# for example\n",
    "class class1:\n",
    "    def test_class1(self):\n",
    "        return \"this is a class1\"\n"
   ]
  },
  {
   "cell_type": "code",
   "execution_count": 55,
   "id": "e32dd1e1-4647-453e-a647-9b98620e9426",
   "metadata": {},
   "outputs": [],
   "source": [
    "class class2:\n",
    "    def test_class2(self):\n",
    "        return\"this is class2\""
   ]
  },
  {
   "cell_type": "code",
   "execution_count": 56,
   "id": "a40a17fb-b39d-4a34-b252-892b3aa6f438",
   "metadata": {},
   "outputs": [],
   "source": [
    "class class3(class1,class2):\n",
    "    pass"
   ]
  },
  {
   "cell_type": "code",
   "execution_count": 57,
   "id": "b41ba691-43a6-482e-8214-30f75ead1b64",
   "metadata": {},
   "outputs": [],
   "source": [
    "obj_class3=class3()"
   ]
  },
  {
   "cell_type": "code",
   "execution_count": 58,
   "id": "af18abd6-ef07-41bd-b202-133089fe90b2",
   "metadata": {},
   "outputs": [
    {
     "data": {
      "text/plain": [
       "'this is a class1'"
      ]
     },
     "execution_count": 58,
     "metadata": {},
     "output_type": "execute_result"
    }
   ],
   "source": [
    "obj_class3.test_class1()"
   ]
  },
  {
   "cell_type": "code",
   "execution_count": 59,
   "id": "b754f6ce-03a2-4214-9419-97bffddb76e1",
   "metadata": {},
   "outputs": [
    {
     "data": {
      "text/plain": [
       "'this is class2'"
      ]
     },
     "execution_count": 59,
     "metadata": {},
     "output_type": "execute_result"
    }
   ],
   "source": [
    "obj_class3.test_class2()"
   ]
  },
  {
   "cell_type": "code",
   "execution_count": 60,
   "id": "28a6fd18-73ae-4cb5-abde-f6ed65d56928",
   "metadata": {},
   "outputs": [],
   "source": [
    "# Q4. What are getter and setter in python? Create a class and create a getter\n",
    "# and a setter method in this class."
   ]
  },
  {
   "cell_type": "code",
   "execution_count": 61,
   "id": "3722576b-72f4-43f2-b7a1-97cc13a2a92c",
   "metadata": {},
   "outputs": [],
   "source": [
    "# Answer 4: Getter: A method that allows you to access an attribute in a given class\n",
    "#           Setter : A method that allows you to set or mutate the value of an \n",
    "#                      attribute in a class."
   ]
  },
  {
   "cell_type": "code",
   "execution_count": 62,
   "id": "e535acd0-110c-401d-8db0-f174788f0c05",
   "metadata": {},
   "outputs": [],
   "source": [
    "# for example\n",
    "class abc:\n",
    "    def __init__(self,name,age):\n",
    "        self._name =name\n",
    "        self._age =age\n",
    "    def get_name(self):\n",
    "        return self._name\n",
    "    def set_name(self,enter_name):\n",
    "        self._name=enter_name\n",
    "    def get_age(self):\n",
    "        return self._age\n",
    "    def set_age(self,enter_age):\n",
    "        self._age=enter_age\n",
    "        \n"
   ]
  },
  {
   "cell_type": "code",
   "execution_count": 66,
   "id": "790bcc36-a701-4881-b849-7a11083693f8",
   "metadata": {},
   "outputs": [],
   "source": [
    "detail=abc(\"munna\",18)"
   ]
  },
  {
   "cell_type": "code",
   "execution_count": 67,
   "id": "6e21193b-ce18-4558-8e56-9a40255e4a09",
   "metadata": {},
   "outputs": [
    {
     "data": {
      "text/plain": [
       "'munna'"
      ]
     },
     "execution_count": 67,
     "metadata": {},
     "output_type": "execute_result"
    }
   ],
   "source": [
    "detail.get_name()"
   ]
  },
  {
   "cell_type": "code",
   "execution_count": 68,
   "id": "10633080-7b1b-4f4a-a1cb-55c02e6caa4e",
   "metadata": {},
   "outputs": [],
   "source": [
    "detail.set_name(\"hemant\")"
   ]
  },
  {
   "cell_type": "code",
   "execution_count": 69,
   "id": "67701c60-feb8-410b-9942-9e9f426e89c1",
   "metadata": {},
   "outputs": [
    {
     "data": {
      "text/plain": [
       "'hemant'"
      ]
     },
     "execution_count": 69,
     "metadata": {},
     "output_type": "execute_result"
    }
   ],
   "source": [
    "detail.get_name()"
   ]
  },
  {
   "cell_type": "code",
   "execution_count": 70,
   "id": "0902e148-7464-4e01-aaf0-b198d3e2abf4",
   "metadata": {},
   "outputs": [
    {
     "data": {
      "text/plain": [
       "18"
      ]
     },
     "execution_count": 70,
     "metadata": {},
     "output_type": "execute_result"
    }
   ],
   "source": [
    "detail.get_age()"
   ]
  },
  {
   "cell_type": "code",
   "execution_count": 71,
   "id": "daa3e2c3-fb46-4dd9-b936-4924696a35bc",
   "metadata": {},
   "outputs": [],
   "source": [
    "detail.set_age(19)"
   ]
  },
  {
   "cell_type": "code",
   "execution_count": 72,
   "id": "617d1f70-0404-4dfd-a38e-a2fcb3010f4b",
   "metadata": {},
   "outputs": [
    {
     "data": {
      "text/plain": [
       "19"
      ]
     },
     "execution_count": 72,
     "metadata": {},
     "output_type": "execute_result"
    }
   ],
   "source": [
    "detail.get_age()"
   ]
  },
  {
   "cell_type": "code",
   "execution_count": 1,
   "id": "eac26b95-7c6d-41bd-9d66-7068935045ff",
   "metadata": {},
   "outputs": [],
   "source": [
    "# Q5.What is method overriding in python? \n",
    "# Write a python code to demonstrate method overriding."
   ]
  },
  {
   "cell_type": "code",
   "execution_count": 2,
   "id": "c61576b9-e846-41e9-a7b4-cccebc253477",
   "metadata": {},
   "outputs": [],
   "source": [
    "# Answer 5: Suppose a method is defined in a base class and when we define same \n",
    "#           named method in the derived class derived from that base class, then\n",
    "#           it is called method overriding."
   ]
  },
  {
   "cell_type": "code",
   "execution_count": 15,
   "id": "649c5201-f418-477e-8fce-b6a2be4b9976",
   "metadata": {},
   "outputs": [],
   "source": [
    "class Employee:\n",
    "    def details(self):\n",
    "        print(\"method is called from Employee class\")"
   ]
  },
  {
   "cell_type": "code",
   "execution_count": 16,
   "id": "6da32494-d2e3-4ff4-b708-d9bd7beda228",
   "metadata": {},
   "outputs": [],
   "source": [
    "class Programmer(Employee):            \n",
    "    def details(self):\n",
    "        print(\"method is called from Programmer class\")"
   ]
  },
  {
   "cell_type": "code",
   "execution_count": 17,
   "id": "4498cf0b-70c7-4f51-81aa-db704e52f48e",
   "metadata": {},
   "outputs": [],
   "source": [
    "employee1=Employee()"
   ]
  },
  {
   "cell_type": "code",
   "execution_count": 18,
   "id": "2604e02e-7ebf-4aca-b033-e9f82df43972",
   "metadata": {},
   "outputs": [
    {
     "name": "stdout",
     "output_type": "stream",
     "text": [
      "method is called from Employee class\n"
     ]
    }
   ],
   "source": [
    "employee1.details()"
   ]
  },
  {
   "cell_type": "code",
   "execution_count": 19,
   "id": "4eb9ff56-660f-4ef3-8bc9-4a9490ec1872",
   "metadata": {},
   "outputs": [],
   "source": [
    "programmer1=Programmer()"
   ]
  },
  {
   "cell_type": "code",
   "execution_count": 20,
   "id": "8b245e10-db3a-40f4-927f-f6633460de62",
   "metadata": {},
   "outputs": [
    {
     "name": "stdout",
     "output_type": "stream",
     "text": [
      "method is called from Programmer class\n"
     ]
    }
   ],
   "source": [
    "programmer1.details()"
   ]
  },
  {
   "cell_type": "code",
   "execution_count": null,
   "id": "104eb47a-8875-4900-9926-24286ae361c7",
   "metadata": {},
   "outputs": [],
   "source": []
  }
 ],
 "metadata": {
  "kernelspec": {
   "display_name": "Python 3 (ipykernel)",
   "language": "python",
   "name": "python3"
  },
  "language_info": {
   "codemirror_mode": {
    "name": "ipython",
    "version": 3
   },
   "file_extension": ".py",
   "mimetype": "text/x-python",
   "name": "python",
   "nbconvert_exporter": "python",
   "pygments_lexer": "ipython3",
   "version": "3.10.8"
  }
 },
 "nbformat": 4,
 "nbformat_minor": 5
}
